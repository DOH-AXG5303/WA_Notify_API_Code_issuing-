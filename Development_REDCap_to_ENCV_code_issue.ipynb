{
 "cells": [
  {
   "cell_type": "markdown",
   "id": "1653943e-f766-4586-8c05-c0423d689a18",
   "metadata": {},
   "source": [
    "# Objective: Issue Verification Codes to patients stored as REDCap records\n",
    "\n",
    "Case Investigation and Contact Tracing (CICT) migration to REDCap will require an issue of Exposure Notification codes to patients that\n",
    "have provided a phone number in the REDCap records."
   ]
  },
  {
   "cell_type": "markdown",
   "id": "00275522-1267-455b-827d-857c95f7ab05",
   "metadata": {},
   "source": [
    "#### Meeting with Daniel L. 02/23/2022\n",
    " - server may issue 500 code during server maintenance, response may return as text instead of json. Implement retry logic with exponential back-off algorithm. \n",
    " - 400 errors, bad phone number, or date out of range, code will not be issued. Need logic to record case outcome (in redcap?)\n",
    " - padding, create a function to randomly generate string of length 1-2624, input as padding. \n",
    " - generate UUID (UNiversal Unique Identifier):\n",
    "     - use MD5 function (pre-made in python, numpy?)\n",
    "     - two arguments as input to MD5: patient phone number, unique argument to me (I generate this). \n",
    "     - Out put of MD5 is my UUID, include that to send to server. \n",
    "     - server will store UUID, this will be used to prevent repeat code issuing in the future. "
   ]
  },
  {
   "cell_type": "markdown",
   "id": "bef41ce0-151a-48fa-820f-379c4c35852d",
   "metadata": {},
   "source": [
    "#### Questions:\n",
    "    - difference between verification code and long term verification token?\n",
    "    - what is verification certificate?"
   ]
  },
  {
   "cell_type": "code",
   "execution_count": 1,
   "id": "d7c9ff91-c98e-4708-a09c-784a8b0d1593",
   "metadata": {},
   "outputs": [],
   "source": [
    "import requests\n",
    "import json\n",
    "import string\n",
    "import random\n",
    "import hashlib\n",
    "\n",
    "from config import api_key\n",
    "from config import uuid_salt"
   ]
  },
  {
   "cell_type": "markdown",
   "id": "eeefcfec-3eb7-4863-9463-0cece4e89a10",
   "metadata": {},
   "source": [
    "# Single code issue example:"
   ]
  },
  {
   "cell_type": "code",
   "execution_count": 2,
   "id": "fb3c1c51-9616-4b62-ab5d-1e6daed0f81b",
   "metadata": {},
   "outputs": [],
   "source": [
    "hed = {\n",
    "    'x-api-key': api_key,\n",
    "    'Content-Type': 'application/json',\n",
    "    'Accept': 'application/json'\n",
    "    }\n",
    "url = \"https://adminapi.encv-test.org/api/issue\"\n",
    "\n",
    "data = json.dumps({\n",
    "    \"symptomDate\": \"2022-02-06\",\n",
    "    \"testDate\": \"2022-02-07\",\n",
    "    \"testType\": \"confirmed\",\n",
    "    \"tzOffset\": -480,\n",
    "    \"phone\": \"+1 971-222-7382\",\n",
    "    \"padding\": \"U11krYIjr8eX\"\n",
    "    })"
   ]
  },
  {
   "cell_type": "code",
   "execution_count": 3,
   "id": "edf64a3d-a605-458d-bafb-1c3c696fc28a",
   "metadata": {},
   "outputs": [
    {
     "name": "stdout",
     "output_type": "stream",
     "text": [
      "200\n"
     ]
    }
   ],
   "source": [
    "response = requests.post(url, headers=hed, data=data)\n",
    "print(response.status_code)"
   ]
  },
  {
   "cell_type": "code",
   "execution_count": 4,
   "id": "78818d73-4539-473d-bb65-9fa5150b180c",
   "metadata": {},
   "outputs": [
    {
     "name": "stdout",
     "output_type": "stream",
     "text": [
      "{'User-Agent': 'python-requests/2.25.1', 'Accept-Encoding': 'gzip, deflate', 'Accept': 'application/json', 'Connection': 'keep-alive', 'x-api-key': 'IoFQd8VXQ5dZ6ELB9t1W7NasfjpZSF8q1HxkKecp6lNfjvgMt2HQcUz6C9wnmVNzhBZwRKk8LVR13dr3U4jaKg.4.737tohTODPGj_ctg1Mt6a3HjZnW_co5loVx1AZdHBfm1wh9W7WIS6VDmK-u0bhzYgURfL-NEWXJ1Z23oA7EDnQ', 'Content-Type': 'application/json', 'Content-Length': '153'}\n",
      "{\"symptomDate\": \"2022-02-06\", \"testDate\": \"2022-02-07\", \"testType\": \"confirmed\", \"tzOffset\": -480, \"phone\": \"+1 971-222-7382\", \"padding\": \"U11krYIjr8eX\"}\n",
      "https://adminapi.encv-test.org/api/issue\n"
     ]
    }
   ],
   "source": [
    "print(response.request.headers)\n",
    "print(response.request.body)\n",
    "print(response.request.url)"
   ]
  },
  {
   "cell_type": "code",
   "execution_count": 5,
   "id": "75311c2b-16f4-4c00-80b8-ce2c114be08d",
   "metadata": {},
   "outputs": [
    {
     "data": {
      "text/plain": [
       "'{\"padding\":\"Cz/XbHunm/vu9z7cWzD+GNpP9LBIbFXqtHu/S948V21FFeTNWyqzX2QJ1eH5QlJSaQH2GgkxugyHn13+KydQLdRVTG6oMvXGS1q/0RvFMBAEgNXTJb1T/Q20cW/tcx5vJmz1JIcSg5IyM59fwDz6D32q/d3wpkRU8azbdBa7eBlxriGMTwE6IOG1orZo59cW/68IoQdT4aKI14+54FW2iqYOnaviLM/aClhvaT/lT8kZig1D3K3kTNUP/uiLHwywyFOAGWaCpwH2Dw2hPyZ1H1UdesfMRXupJs1givBbUW5hTI9OzttV8w7U3VGmxsot2Kq0TQS9Pn6Bd1xCr2yA/izlfXngT/hwGMOxX9gTilvASCf+faX4BtPWqfuy/JPky6JPk7cHIi/cK0Sec04nftzB6VFhZOPBo3dUjZLbo2LywcSfWnYrAhiNm0YMhK/YZjcK4mJ49cvRWj9+h8COlVNM0bHZa6BOtL8plvkq8iUvhJxRD9cuRL/2LxOyqP4gUm5G/0mPrWD22ELNcIsD98yIbiZ2uRT4TmIzVA3DYotMjHFcjbxNS9LjHFZIZRvcit1ydcHUP2jVzFDcmLnxuw61MZtOhRzzi9mxsDq8UYPl7YFKtbKNlt1JgEckXf8F1CDzbB5FQxsxluTFS1m8Eog9458HKSPOOJYh0kCykwA7UWJ0MXRLF8/Rhdm9VOA4YtQ4GKftS2uRIDh4LQcYM9XpJDeiUFL/h+9wBGPjOczCehH5XWQeyfrpgTXGql/CaG3SmRh0i4ScxwJ6BlExElb7Sl2poNNAO/7gRNmrRJuk6y7SFQjcZ+GztUzx9bBcAoewK9MbG82gOFDs+tdZjZoEK9s03Ic3hyXNoj/6zBISoOaKBx/GI5VRUtB23+48yq7Df7RKXjJdBXmVl3yYvGYcdmtXsGFPuLgwE46ObvIfy9dei/XxVC92Oy88zN60wmG0a+o1MYUq3FVrOkmHS24wewt2SHt3A7bRvvNEdrPuOel7IrryVH1XW2CbDsUjB4xhRyaGnZtefya8m/GzDN+hsVUdOTD4el94N1vO3uSORv9jAZtfyP3Nz8uPoby0f+SgZWwPlm7TigisOavmTiSkDXw9vGH1fSElnZqIP5MKaETJeP9e2lk07caIrun/NLWJ81hEZ845Gu0y4+dmodNhLxZhUKbj+G8/oKfsoM1FJi+c1jBe+AStbpHzvixTPiwnCTIvTAaPPDIwp2eHJK0OYK5oDaqQgksUCIiQdpg64Md9rCw909FaQeDYaY7I9c4OWgx36YVbK+feUN9aFnvUxeD065kevLNfI32QKcNBbWzQOd54VkXhPJ4h0iss2diEqhtsdvPj9qx7mt5UNrSLKZmHB3DZNhK8K6YZtINekmk/FqHiY1iR+MGP01kDQJsZ4cjMvFC64K4UhvJGzAlbrjfMPs4eFPbCj+wlystEXDJdlPdic3g/z1t4UjbDTJ0yI15aGiEUifMPAPcJW5J4dWPIMRyerTaaztXbLib2upokmG+9tGHO3JHqenlZl4QhJCY3KQPSyMqe/zmEag7FuT2QwfY1uDH6PGAf19uZdFJwBdn8FnM2Z/PreJFFPLUDd2xXATDuYUMjw4ZAH3QtbU58eJCFNle4U4/Mrfzd5K575FYmqSjHMA2oWdudNeL1PQgtMBopajtHg7i2BRS79zgq6dHp81Qyts0qkIcTSVp+85c1LwsGye63GqMZ0P7EnfCI14+7/+p2epDnK7R5g0Ek6ygPFoknvrzBWeANAyI+upcrtkQKFU1Vsb8z1DqVF5b6wJm4mJncobICgA1IJCHm/PBW58JLeXckC4EyLBctU/gz/stZ2ga46Fh5yl2EtGkgBPTmF/MsiHIs4AvZvk1JEELrNAjlHg==\",\"uuid\":\"aa98592c-f298-4d67-b70f-9e54b195237c\",\"code\":\"60693717\",\"expiresAt\":\"Thu, 24 Feb 2022 03:41:02 UTC\",\"expiresAtTimestamp\":1645674062,\"longExpiresAt\":\"Fri, 25 Feb 2022 03:26:02 UTC\",\"longExpiresAtTimestamp\":1645759562}\\n'"
      ]
     },
     "execution_count": 5,
     "metadata": {},
     "output_type": "execute_result"
    }
   ],
   "source": [
    "response.text"
   ]
  },
  {
   "cell_type": "markdown",
   "id": "14632388-8632-4eff-989a-f979734061a6",
   "metadata": {},
   "source": [
    "# Batch Issue example"
   ]
  },
  {
   "cell_type": "code",
   "execution_count": 6,
   "id": "7c4ad142-db10-4cd5-9b00-9252ed5bb89d",
   "metadata": {},
   "outputs": [],
   "source": [
    "hed = {\n",
    "    'x-api-key': api_key,\n",
    "    'Content-Type': 'application/json',\n",
    "    'Accept': 'application/json'\n",
    "}\n",
    "\n",
    "url = \"https://adminapi.encv-test.org/api/batch-issue\"\n",
    "\n",
    "data = json.dumps({\n",
    "    \"codes\": [\n",
    "        {\n",
    "            \"symptomDate\": \"2022-02-06\",\n",
    "            \"testDate\": \"2022-02-07\",\n",
    "            \"testType\": \"confirmed\",\n",
    "            \"tzOffset\": -480,\n",
    "            \"phone\": \"+1 971-222-7382\",\n",
    "            \n",
    "        },\n",
    "        {\n",
    "            \"symptomDate\": \"2022-02-06\",\n",
    "            \"testDate\": \"2022-02-07\",\n",
    "            \"testType\": \"confirmed\",\n",
    "            \"tzOffset\": -480,\n",
    "            \"phone\": \"+1 971-222-7383\",\n",
    "        }\n",
    "    ],\n",
    "    \"padding\": \"U11krYIjr8eX\"\n",
    "})"
   ]
  },
  {
   "cell_type": "code",
   "execution_count": null,
   "id": "13bfbc27-8e7b-4c39-a0c7-5d058e4b439a",
   "metadata": {},
   "outputs": [],
   "source": [
    "response = requests.post(url, headers=hed, data=data)\n",
    "print(response.status_code)"
   ]
  },
  {
   "cell_type": "code",
   "execution_count": null,
   "id": "ca1ca17c-12d5-46d3-a2b1-57fba27a6f68",
   "metadata": {},
   "outputs": [],
   "source": [
    "response.request.body"
   ]
  },
  {
   "cell_type": "code",
   "execution_count": null,
   "id": "bdb85343-9969-4937-950a-739e5e9a4ae5",
   "metadata": {},
   "outputs": [],
   "source": [
    "response.content"
   ]
  },
  {
   "cell_type": "markdown",
   "id": "d122fcec-5cb4-46d0-9bce-70baef2d3cba",
   "metadata": {},
   "source": [
    "### Generate Padding Function"
   ]
  },
  {
   "cell_type": "code",
   "execution_count": 7,
   "id": "e994965e-3aec-437b-8463-0d81b428fb35",
   "metadata": {},
   "outputs": [],
   "source": [
    "def padding_gen():\n",
    "    \"\"\"\n",
    "    Generate a string of random length between 0 and 3000 characters\n",
    "    to be used as padding for API calls\n",
    "    \n",
    "    return:\n",
    "        string \n",
    "    \"\"\"\n",
    "    \n",
    "    chars = string.ascii_uppercase + string.digits + string.ascii_lowercase\n",
    "    length = random.randint(0,3000)\n",
    "    \n",
    "    return \"\".join([random.choice(chars) for i in range(length)])"
   ]
  },
  {
   "cell_type": "markdown",
   "id": "b7d7b394-8908-4c8f-91db-8c8ba30cc246",
   "metadata": {},
   "source": [
    "### Generate UUID per phone number"
   ]
  },
  {
   "cell_type": "code",
   "execution_count": 10,
   "id": "92e462b2-342b-4a24-ba32-2e7a7f4cae2a",
   "metadata": {},
   "outputs": [],
   "source": [
    "def uuid_gen(text, salt = uuid_salt):\n",
    "    \"\"\"\n",
    "    Generate a uuid from phone number string and HMAC key (unique passphrase)\n",
    "    \n",
    "    return:\n",
    "        string\n",
    "    \"\"\"\n",
    "    textutf8 = text.encode(\"utf-8\")\n",
    "    saltutf8 = salt.encode(\"utf-8\")\n",
    "    \n",
    "    hash_key = hashlib.md5(saltutf8+b\":\"+textutf8)\n",
    "    hexa = hash_key.hexdigest()\n",
    "    \n",
    "    return hexa\n",
    "    "
   ]
  }
 ],
 "metadata": {
  "kernelspec": {
   "display_name": "Python [conda env:transform21] *",
   "language": "python",
   "name": "conda-env-transform21-py"
  },
  "language_info": {
   "codemirror_mode": {
    "name": "ipython",
    "version": 3
   },
   "file_extension": ".py",
   "mimetype": "text/x-python",
   "name": "python",
   "nbconvert_exporter": "python",
   "pygments_lexer": "ipython3",
   "version": "3.8.10"
  }
 },
 "nbformat": 4,
 "nbformat_minor": 5
}
