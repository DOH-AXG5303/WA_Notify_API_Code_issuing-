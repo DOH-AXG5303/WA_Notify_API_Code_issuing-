{
 "cells": [
  {
   "cell_type": "markdown",
   "id": "1653943e-f766-4586-8c05-c0423d689a18",
   "metadata": {},
   "source": [
    "# Objective: Issue Verification Codes to patients stored as REDCap records\n",
    "\n",
    "Case Investigation and Contact Tracing (CICT) migration to REDCap will require an issue of Exposure Notification codes to patients that\n",
    "have provided a phone number in the REDCap records."
   ]
  },
  {
   "cell_type": "markdown",
   "id": "00275522-1267-455b-827d-857c95f7ab05",
   "metadata": {},
   "source": [
    "#### Meeting with Daniel L. 02/23/2022\n",
    " - server may issue 500 code during server maintenance, response may return as text instead of json. Implement retry logic with exponential back-off algorithm. \n",
    " - 400 errors, bad phone number, or date out of range, code will not be issued. Need logic to record case outcome (in redcap?)\n",
    " - padding, create a function to randomly generate string of length 1-2624, input as padding. \n",
    " - generate UUID (UNiversal Unique Identifier):\n",
    "     - use MD5 function (pre-made in python, numpy?)\n",
    "     - two arguments as input to MD5: patient phone number, unique argument to me (I generate this). \n",
    "     - Out put of MD5 is my UUID, include that to send to server. \n",
    "     - server will store UUID, this will be used to prevent repeat code issuing in the future. "
   ]
  },
  {
   "cell_type": "markdown",
   "id": "bef41ce0-151a-48fa-820f-379c4c35852d",
   "metadata": {},
   "source": [
    "#### Questions:\n",
    "    - difference between verification code and long term verification token?\n",
    "    - what is verification certificate?"
   ]
  },
  {
   "cell_type": "code",
   "execution_count": 1,
   "id": "d7c9ff91-c98e-4708-a09c-784a8b0d1593",
   "metadata": {},
   "outputs": [],
   "source": [
    "import requests\n",
    "import json\n",
    "import string\n",
    "import random\n",
    "import hashlib\n",
    "\n",
    "from config import api_key\n",
    "from config import uuid_salt"
   ]
  },
  {
   "cell_type": "markdown",
   "id": "eeefcfec-3eb7-4863-9463-0cece4e89a10",
   "metadata": {},
   "source": [
    "# Single code issue example:"
   ]
  },
  {
   "cell_type": "code",
   "execution_count": null,
   "id": "fb3c1c51-9616-4b62-ab5d-1e6daed0f81b",
   "metadata": {},
   "outputs": [],
   "source": [
    "hed = {\n",
    "    'x-api-key': api_key,\n",
    "    'Content-Type': 'application/json',\n",
    "    'Accept': 'application/json'\n",
    "    }\n",
    "url = \"https://adminapi.encv-test.org/api/issue\"\n",
    "\n",
    "data = json.dumps({\n",
    "    \"symptomDate\": \"2022-02-06\",\n",
    "    \"testDate\": \"2022-02-07\",\n",
    "    \"testType\": \"confirmed\",\n",
    "    \"tzOffset\": -480,\n",
    "    \"phone\": \"+1 971-222-7382\",\n",
    "    \"padding\": \"U11krYIjr8eX\"\n",
    "    })"
   ]
  },
  {
   "cell_type": "code",
   "execution_count": null,
   "id": "edf64a3d-a605-458d-bafb-1c3c696fc28a",
   "metadata": {},
   "outputs": [],
   "source": [
    "response = requests.post(url, headers=hed, data=data)\n",
    "print(response.status_code)"
   ]
  },
  {
   "cell_type": "code",
   "execution_count": null,
   "id": "78818d73-4539-473d-bb65-9fa5150b180c",
   "metadata": {},
   "outputs": [],
   "source": [
    "print(response.request.headers)\n",
    "print(response.request.body)\n",
    "print(response.request.url)"
   ]
  },
  {
   "cell_type": "code",
   "execution_count": null,
   "id": "75311c2b-16f4-4c00-80b8-ce2c114be08d",
   "metadata": {},
   "outputs": [],
   "source": [
    "response.text"
   ]
  },
  {
   "cell_type": "markdown",
   "id": "14632388-8632-4eff-989a-f979734061a6",
   "metadata": {},
   "source": [
    "# Batch Issue example"
   ]
  },
  {
   "cell_type": "code",
   "execution_count": null,
   "id": "7c4ad142-db10-4cd5-9b00-9252ed5bb89d",
   "metadata": {},
   "outputs": [],
   "source": [
    "hed = {\n",
    "    'x-api-key': api_key,\n",
    "    'Content-Type': 'application/json',\n",
    "    'Accept': 'application/json'\n",
    "}\n",
    "\n",
    "url = \"https://adminapi.encv-test.org/api/batch-issue\"\n",
    "\n",
    "data = json.dumps({\n",
    "    \"codes\": [\n",
    "        {\n",
    "            \"symptomDate\": \"2022-02-06\",\n",
    "            \"testDate\": \"2022-02-07\",\n",
    "            \"testType\": \"confirmed\",\n",
    "            \"tzOffset\": -480,\n",
    "            \"phone\": \"+1 971-222-7382\",\n",
    "            \n",
    "        },\n",
    "        {\n",
    "            \"symptomDate\": \"2022-02-06\",\n",
    "            \"testDate\": \"2022-02-07\",\n",
    "            \"testType\": \"confirmed\",\n",
    "            \"tzOffset\": -480,\n",
    "            \"phone\": \"+1 971-222-7383\",\n",
    "        }\n",
    "    ],\n",
    "    \"padding\": \"U11krYIjr8eX\"\n",
    "})"
   ]
  },
  {
   "cell_type": "code",
   "execution_count": null,
   "id": "13bfbc27-8e7b-4c39-a0c7-5d058e4b439a",
   "metadata": {},
   "outputs": [],
   "source": [
    "response = requests.post(url, headers=hed, data=data)\n",
    "print(response.status_code)"
   ]
  },
  {
   "cell_type": "code",
   "execution_count": null,
   "id": "ca1ca17c-12d5-46d3-a2b1-57fba27a6f68",
   "metadata": {},
   "outputs": [],
   "source": [
    "response.request.body"
   ]
  },
  {
   "cell_type": "code",
   "execution_count": null,
   "id": "bdb85343-9969-4937-950a-739e5e9a4ae5",
   "metadata": {},
   "outputs": [],
   "source": [
    "response.content"
   ]
  },
  {
   "cell_type": "markdown",
   "id": "d122fcec-5cb4-46d0-9bce-70baef2d3cba",
   "metadata": {},
   "source": [
    "### Generate Padding Function"
   ]
  },
  {
   "cell_type": "code",
   "execution_count": null,
   "id": "e994965e-3aec-437b-8463-0d81b428fb35",
   "metadata": {},
   "outputs": [],
   "source": [
    "def padding_gen():\n",
    "    \"\"\"\n",
    "    Generate a string of random length between 0 and 3000 characters\n",
    "    to be used as padding for API calls\n",
    "    \n",
    "    return:\n",
    "        string \n",
    "    \"\"\"\n",
    "    \n",
    "    chars = string.ascii_uppercase + string.digits + string.ascii_lowercase\n",
    "    length = random.randint(0,3000)\n",
    "    \n",
    "    return \"\".join([random.choice(chars) for i in range(length)])"
   ]
  },
  {
   "cell_type": "markdown",
   "id": "b7d7b394-8908-4c8f-91db-8c8ba30cc246",
   "metadata": {},
   "source": [
    "### Generate UUID per phone number"
   ]
  },
  {
   "cell_type": "code",
   "execution_count": 2,
   "id": "92e462b2-342b-4a24-ba32-2e7a7f4cae2a",
   "metadata": {},
   "outputs": [],
   "source": [
    "def uuid_gen(text, salt = uuid_salt):\n",
    "    \"\"\"\n",
    "    Generate a uuid from phone number string and HMAC key (unique passphrase)\n",
    "    \n",
    "    return:\n",
    "        string\n",
    "    \"\"\"\n",
    "    textutf8 = text.encode(\"utf-8\")\n",
    "    saltutf8 = uuid_salt.encode(\"utf-8\")\n",
    "    \n",
    "    hash_key = hashlib.md5(saltutf8+b\":\"+textutf8)\n",
    "    hexa = hash_key.hexdigest()\n",
    "    \n",
    "    return hexa\n",
    "    "
   ]
  }
 ],
 "metadata": {
  "kernelspec": {
   "display_name": "Python [conda env:transform21] *",
   "language": "python",
   "name": "conda-env-transform21-py"
  },
  "language_info": {
   "codemirror_mode": {
    "name": "ipython",
    "version": 3
   },
   "file_extension": ".py",
   "mimetype": "text/x-python",
   "name": "python",
   "nbconvert_exporter": "python",
   "pygments_lexer": "ipython3",
   "version": "3.8.10"
  }
 },
 "nbformat": 4,
 "nbformat_minor": 5
}
